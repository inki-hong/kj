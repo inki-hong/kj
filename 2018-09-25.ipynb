{
 "cells": [
  {
   "cell_type": "code",
   "execution_count": 11,
   "metadata": {},
   "outputs": [
    {
     "name": "stdout",
     "output_type": "stream",
     "text": [
      "draw 8\n",
      "draw 2\n",
      "draw 2\n",
      "draw 4\n",
      "draw 2\n",
      "draw 9\n",
      "draw 0\n",
      "draw 5\n"
     ]
    }
   ],
   "source": [
    "import random\n",
    "\n",
    "go = True\n",
    "while go:\n",
    "    r = random.randrange(10)\n",
    "    print('draw', r)\n",
    "    if r == 5:\n",
    "        go = False"
   ]
  },
  {
   "cell_type": "code",
   "execution_count": 12,
   "metadata": {},
   "outputs": [
    {
     "name": "stdout",
     "output_type": "stream",
     "text": [
      "draw 8\n",
      "draw 8\n",
      "draw 9\n",
      "draw 9\n",
      "draw 0\n",
      "draw 5\n",
      "6\n"
     ]
    }
   ],
   "source": [
    "import random\n",
    "\n",
    "go = True\n",
    "total = 0\n",
    "while go:\n",
    "    r = random.randrange(10)\n",
    "    total = total + 1\n",
    "    print('draw', r)\n",
    "    if r == 5:\n",
    "        go = False\n",
    "print(total)"
   ]
  },
  {
   "cell_type": "code",
   "execution_count": 14,
   "metadata": {},
   "outputs": [
    {
     "name": "stdout",
     "output_type": "stream",
     "text": [
      "Please enter a word (enter q to quit): apple\n",
      "You entered apple. Length is 5.\n",
      "Please enter a word (enter q to quit): banana\n",
      "You entered banana. Length is 6.\n",
      "Please enter a word (enter q to quit): orange\n",
      "You entered orange. Length is 6.\n",
      "Please enter a word (enter q to quit): q\n"
     ]
    }
   ],
   "source": [
    "go = True\n",
    "while go:\n",
    "    user_input = input('Please enter a word (enter q to quit): ')\n",
    "    if user_input == 'q':\n",
    "        go = False\n",
    "    else:\n",
    "        print('You entered {}. Length is {}.'.format(user_input, len(user_input)))"
   ]
  },
  {
   "cell_type": "code",
   "execution_count": null,
   "metadata": {},
   "outputs": [],
   "source": []
  },
  {
   "cell_type": "code",
   "execution_count": 15,
   "metadata": {},
   "outputs": [
    {
     "name": "stdout",
     "output_type": "stream",
     "text": [
      "Please enter 1st # (enter q to quit): 12\n",
      "Please enter 2nd # (enter q to quit): 24\n",
      "Sum is 36\n",
      "Please enter 1st # (enter q to quit): q\n",
      "Please enter 2nd # (enter q to quit): q\n"
     ]
    }
   ],
   "source": [
    "# exercise: 덧셈 계산기\n",
    "\n",
    "# 옵션 1\n",
    "go = True\n",
    "while go:\n",
    "    input_1 = input('Please enter 1st # (enter q to quit): ')\n",
    "    input_2 = input('Please enter 2nd # (enter q to quit): ')\n",
    "\n",
    "    if input_1 == 'q' or input_2 == 'q':\n",
    "        go = False\n",
    "    else:\n",
    "        a = int(input_1)\n",
    "        b = int(input_2)\n",
    "        print('Sum is {}'.format(a + b))"
   ]
  },
  {
   "cell_type": "code",
   "execution_count": 16,
   "metadata": {},
   "outputs": [
    {
     "name": "stdout",
     "output_type": "stream",
     "text": [
      "Please enter 1st # (enter q to quit): 12\n",
      "+, -, *, or / (enter q to quit): +\n",
      "Please enter 2nd # (enter q to quit): 24\n",
      "Sum is 36\n",
      "Please enter 1st # (enter q to quit): q\n"
     ]
    }
   ],
   "source": [
    "# exercise: 사칙연산 계산기\n",
    "go = True\n",
    "while go:\n",
    "    input_1 = input('Please enter 1st # (enter q to quit): ')\n",
    "    if input_1 == 'q':\n",
    "        go = False\n",
    "    else:\n",
    "        input_2 = input('+, -, *, or / (enter q to quit): ')\n",
    "        if input_2 == 'q':\n",
    "            go = False\n",
    "        else:\n",
    "            input_3 = input('Please enter 2nd # (enter q to quit): ')\n",
    "            if input_3 == 'q':\n",
    "                go = False\n",
    "            else:\n",
    "                a = int(input_1)\n",
    "                b = int(input_3)\n",
    "                # NOT result = a input_2 b\n",
    "                if input_2 == '+':\n",
    "                    print('Sum is {}'.format(a + b))\n",
    "                elif input_2 == '-':\n",
    "                    print('Difference is {}'.format(a - b))\n",
    "                elif input_2 == '*':\n",
    "                    print('Product is {}'.format(a * b))\n",
    "                elif input_2 == '/':\n",
    "                    print('Quotient is {}'.format(a / b))"
   ]
  },
  {
   "cell_type": "code",
   "execution_count": null,
   "metadata": {},
   "outputs": [],
   "source": []
  },
  {
   "cell_type": "code",
   "execution_count": 18,
   "metadata": {},
   "outputs": [
    {
     "name": "stdout",
     "output_type": "stream",
     "text": [
      "draw 4\n",
      "draw 1\n",
      "draw 3\n",
      "draw 2\n",
      "draw 1\n",
      "draw 2\n",
      "draw 6\n",
      "draw 7\n",
      "draw 0\n",
      "draw 9\n",
      "draw 0\n",
      "draw 6\n",
      "draw 6\n",
      "draw 2\n",
      "draw 2\n",
      "draw 4\n",
      "draw 7\n",
      "draw 3\n",
      "draw 2\n",
      "draw 0\n",
      "draw 5\n"
     ]
    }
   ],
   "source": [
    "# break statement\n",
    "\n",
    "import random\n",
    "\n",
    "while True:\n",
    "    r = random.randrange(10)\n",
    "    print('draw', r)\n",
    "    if r == 5:\n",
    "        break\n",
    "        print('5 found')  # 실행되지 않습니다"
   ]
  },
  {
   "cell_type": "code",
   "execution_count": 19,
   "metadata": {},
   "outputs": [
    {
     "name": "stdout",
     "output_type": "stream",
     "text": [
      "0\n",
      "1\n",
      "2\n",
      "3\n",
      "4\n"
     ]
    }
   ],
   "source": [
    "for x in range(10):\n",
    "    if x == 5:\n",
    "        break\n",
    "    else:\n",
    "        print(x)"
   ]
  },
  {
   "cell_type": "code",
   "execution_count": null,
   "metadata": {},
   "outputs": [],
   "source": []
  },
  {
   "cell_type": "code",
   "execution_count": 20,
   "metadata": {},
   "outputs": [
    {
     "name": "stdout",
     "output_type": "stream",
     "text": [
      "0\n",
      "1\n",
      "2\n",
      "3\n",
      "4\n",
      "6\n",
      "7\n",
      "8\n",
      "9\n"
     ]
    }
   ],
   "source": [
    "# continue statement\n",
    "\n",
    "for y in range(10):\n",
    "    if y == 5:\n",
    "        continue\n",
    "    print(y)\n",
    "    if y == 5:\n",
    "        print('Exit!')"
   ]
  },
  {
   "cell_type": "code",
   "execution_count": null,
   "metadata": {},
   "outputs": [],
   "source": [
    "# WARNING\n",
    "\n",
    "z = 0\n",
    "while z < 10:\n",
    "    print(z)\n",
    "    # if z == 5:\n",
    "    #     continue\n",
    "    \n",
    "    #\n",
    "    #\n",
    "    #\n",
    "    \n",
    "    z += 1"
   ]
  }
 ],
 "metadata": {
  "kernelspec": {
   "display_name": "Python 3",
   "language": "python",
   "name": "python3"
  },
  "language_info": {
   "codemirror_mode": {
    "name": "ipython",
    "version": 3
   },
   "file_extension": ".py",
   "mimetype": "text/x-python",
   "name": "python",
   "nbconvert_exporter": "python",
   "pygments_lexer": "ipython3",
   "version": "3.6.4"
  }
 },
 "nbformat": 4,
 "nbformat_minor": 2
}
