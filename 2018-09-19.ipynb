{
 "cells": [
  {
   "cell_type": "code",
   "execution_count": 2,
   "metadata": {},
   "outputs": [],
   "source": [
    "fruits = ['apple', 'orange', 'cherry',\n",
    "          'mango', 'banana', 'peach']"
   ]
  },
  {
   "cell_type": "code",
   "execution_count": 4,
   "metadata": {},
   "outputs": [
    {
     "name": "stdout",
     "output_type": "stream",
     "text": [
      "fruit apple\n",
      "fruit orange\n",
      "fruit cherry\n",
      "fruit mango\n",
      "fruit banana\n",
      "fruit peach\n"
     ]
    }
   ],
   "source": [
    "# for loop\n",
    "\n",
    "# for new_var in collection:\n",
    "#    statement(s)\n",
    "#    ...\n",
    "\n",
    "for x in fruits:\n",
    "    print('fruit', x)"
   ]
  },
  {
   "cell_type": "code",
   "execution_count": 5,
   "metadata": {},
   "outputs": [
    {
     "name": "stdout",
     "output_type": "stream",
     "text": [
      "fruit apple\n",
      "fruit orange\n",
      "fruit cherry\n",
      "fruit mango\n",
      "fruit banana\n",
      "fruit peach\n"
     ]
    }
   ],
   "source": [
    "x = fruits[0]\n",
    "print('fruit', x)\n",
    "x = fruits[1]\n",
    "print('fruit', x)\n",
    "x = fruits[2]\n",
    "print('fruit', x)\n",
    "x = fruits[3]\n",
    "print('fruit', x)\n",
    "x = fruits[4]\n",
    "print('fruit', x)\n",
    "x = fruits[5]\n",
    "print('fruit', x)"
   ]
  },
  {
   "cell_type": "code",
   "execution_count": 6,
   "metadata": {},
   "outputs": [
    {
     "name": "stdout",
     "output_type": "stream",
     "text": [
      "apple\n",
      "banana\n",
      "cherry\n"
     ]
    }
   ],
   "source": [
    "my_list = ['apple', 'banana', 'cherry']\n",
    "for fruit in my_list:\n",
    "    print(fruit)"
   ]
  },
  {
   "cell_type": "code",
   "execution_count": 7,
   "metadata": {},
   "outputs": [
    {
     "name": "stdout",
     "output_type": "stream",
     "text": [
      "c: a\n",
      "c: p\n",
      "c: p\n",
      "c: l\n",
      "c: e\n"
     ]
    }
   ],
   "source": [
    "my_str = 'apple'\n",
    "for c in my_str:\n",
    "    print('c:', c)"
   ]
  },
  {
   "cell_type": "code",
   "execution_count": 8,
   "metadata": {},
   "outputs": [
    {
     "name": "stdout",
     "output_type": "stream",
     "text": [
      "1\n",
      "2\n",
      "3\n",
      "4\n",
      "5\n"
     ]
    }
   ],
   "source": [
    "for x in range(1, 6):  # for x in [1, 2, 3, 4, 5]:\n",
    "    print(x)"
   ]
  },
  {
   "cell_type": "code",
   "execution_count": 9,
   "metadata": {},
   "outputs": [
    {
     "name": "stdout",
     "output_type": "stream",
     "text": [
      "Hello\n",
      "Hello\n",
      "Hello\n",
      "Hello\n",
      "Hello\n"
     ]
    }
   ],
   "source": [
    "for x in range(0, 5):  # for _ in range(0, 5):\n",
    "    print('Hello')"
   ]
  },
  {
   "cell_type": "code",
   "execution_count": 11,
   "metadata": {},
   "outputs": [
    {
     "name": "stdout",
     "output_type": "stream",
     "text": [
      "High count 24\n"
     ]
    }
   ],
   "source": [
    "import random\n",
    "\n",
    "count = 0\n",
    "\n",
    "for _ in range(0, 100):\n",
    "    r = random.randrange(0, 10)\n",
    "    if r > 7:\n",
    "        count = count + 1  # NOT count = 1\n",
    "\n",
    "print('High count', count)"
   ]
  },
  {
   "cell_type": "code",
   "execution_count": null,
   "metadata": {},
   "outputs": [],
   "source": []
  },
  {
   "cell_type": "code",
   "execution_count": 12,
   "metadata": {},
   "outputs": [
    {
     "name": "stdout",
     "output_type": "stream",
     "text": [
      "0\n",
      "2\n",
      "4\n",
      "6\n",
      "8\n"
     ]
    }
   ],
   "source": [
    "for x in range(0, 10, 2):\n",
    "    print(x)"
   ]
  },
  {
   "cell_type": "code",
   "execution_count": 13,
   "metadata": {},
   "outputs": [
    {
     "name": "stdout",
     "output_type": "stream",
     "text": [
      "4\n",
      "3\n",
      "2\n",
      "1\n",
      "0\n"
     ]
    }
   ],
   "source": [
    "for x in range(4, -1, -1):\n",
    "    print(x)"
   ]
  },
  {
   "cell_type": "code",
   "execution_count": 14,
   "metadata": {},
   "outputs": [
    {
     "name": "stdout",
     "output_type": "stream",
     "text": [
      "0\n",
      "1\n",
      "2\n",
      "3\n",
      "4\n"
     ]
    }
   ],
   "source": [
    "for x in range(5):\n",
    "    print(x)"
   ]
  },
  {
   "cell_type": "code",
   "execution_count": null,
   "metadata": {},
   "outputs": [],
   "source": []
  },
  {
   "cell_type": "code",
   "execution_count": 17,
   "metadata": {},
   "outputs": [
    {
     "name": "stdout",
     "output_type": "stream",
     "text": [
      "x is 2 and subtotal is 2\n",
      "x is 3 and subtotal is 5\n",
      "x is 5 and subtotal is 10\n",
      "x is 7 and subtotal is 17\n",
      "Sum is 17\n"
     ]
    }
   ],
   "source": [
    "total = 0\n",
    "\n",
    "for x in [2, 3, 5, 7]:\n",
    "    total += x  # total = total + x\n",
    "    print('x is {} and subtotal is {}'.format(x, total))\n",
    "\n",
    "print('Sum is {}'.format(total))"
   ]
  },
  {
   "cell_type": "code",
   "execution_count": 18,
   "metadata": {},
   "outputs": [
    {
     "name": "stdout",
     "output_type": "stream",
     "text": [
      "x is 2 and subtotal is 2\n",
      "x is 3 and subtotal is 6\n",
      "x is 5 and subtotal is 30\n",
      "x is 7 and subtotal is 210\n",
      "Product is 210\n"
     ]
    }
   ],
   "source": [
    "product = 1\n",
    "\n",
    "for x in [2, 3, 5, 7]:\n",
    "    product = product * x\n",
    "    print('x is {} and subtotal is {}'.format(x, product))\n",
    "\n",
    "print('Product is {}'.format(product))"
   ]
  },
  {
   "cell_type": "code",
   "execution_count": null,
   "metadata": {},
   "outputs": [],
   "source": []
  },
  {
   "cell_type": "code",
   "execution_count": 19,
   "metadata": {},
   "outputs": [],
   "source": [
    "fruits = ['apple', 'orange', 'cherry',\n",
    "          'mango', 'banana', 'peach']"
   ]
  },
  {
   "cell_type": "code",
   "execution_count": 20,
   "metadata": {},
   "outputs": [
    {
     "name": "stdout",
     "output_type": "stream",
     "text": [
      "0 apple\n",
      "1 orange\n",
      "2 cherry\n",
      "3 mango\n",
      "4 banana\n",
      "5 peach\n"
     ]
    }
   ],
   "source": [
    "index = 0\n",
    "for f in fruits:\n",
    "    print(index, f)\n",
    "    index += 1"
   ]
  },
  {
   "cell_type": "code",
   "execution_count": 21,
   "metadata": {},
   "outputs": [
    {
     "name": "stdout",
     "output_type": "stream",
     "text": [
      "0 apple\n",
      "1 orange\n",
      "2 cherry\n",
      "3 mango\n",
      "4 banana\n",
      "5 peach\n"
     ]
    }
   ],
   "source": [
    "for index, f in enumerate(fruits):\n",
    "    print(index, f)"
   ]
  },
  {
   "cell_type": "code",
   "execution_count": null,
   "metadata": {},
   "outputs": [],
   "source": []
  }
 ],
 "metadata": {
  "kernelspec": {
   "display_name": "Python 3",
   "language": "python",
   "name": "python3"
  },
  "language_info": {
   "codemirror_mode": {
    "name": "ipython",
    "version": 3
   },
   "file_extension": ".py",
   "mimetype": "text/x-python",
   "name": "python",
   "nbconvert_exporter": "python",
   "pygments_lexer": "ipython3",
   "version": "3.6.4"
  }
 },
 "nbformat": 4,
 "nbformat_minor": 2
}
